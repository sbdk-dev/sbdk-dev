{
 "cells": [
  {
   "cell_type": "markdown",
   "id": "ab534096",
   "metadata": {},
   "source": [
    "# DLT + DuckDB Quickstart Notebook\n",
    "This notebook demonstrates loading data with DLT and querying with DuckDB."
   ]
  },
  {
   "cell_type": "code",
   "execution_count": null,
   "id": "da11530e",
   "metadata": {},
   "outputs": [],
   "source": [
    "# Install pandas and numpy if not already present\n",
    "!pip install pandas numpy"
   ]
  },
  {
   "cell_type": "code",
   "execution_count": null,
   "id": "56973366",
   "metadata": {},
   "outputs": [],
   "source": [
    "import dlt\n",
    "import duckdb\n",
    "import pandas as pd\n",
    "import numpy as np"
   ]
  },
  {
   "cell_type": "code",
   "execution_count": 2,
   "id": "98b3042f",
   "metadata": {},
   "outputs": [
    {
     "name": "stdout",
     "output_type": "stream",
     "text": [
      "DLT Load Info: Pipeline sample load step completed in 0.06 seconds\n",
      "1 load package(s) were loaded to destination duckdb and into dataset sample_data\n",
      "The duckdb destination used duckdb:////Users/mattstrautmann/Documents/GitHub/duckdb-dev-env/sample.duckdb location to store data\n",
      "Load package 1753892874.56921 is LOADED and contains no failed jobs\n"
     ]
    }
   ],
   "source": [
    "# Load sample data with DLT\n",
    "data = [{\"id\": 1, \"value\": \"foo\"}, {\"id\": 2, \"value\": \"bar\"}]\n",
    "pipeline = dlt.pipeline(pipeline_name=\"sample\", destination=\"duckdb\", dataset_name=\"sample_data\")\n",
    "load_info = pipeline.run(data, table_name=\"my_table\", write_disposition=\"replace\")\n",
    "print(\"DLT Load Info:\", load_info)"
   ]
  },
  {
   "cell_type": "code",
   "execution_count": 4,
   "id": "b543bcd0-be7a-4f85-b24d-70c5106574d7",
   "metadata": {},
   "outputs": [
    {
     "ename": "ModuleNotFoundError",
     "evalue": "No module named 'numpy'",
     "output_type": "error",
     "traceback": [
      "\u001b[31m---------------------------------------------------------------------------\u001b[39m",
      "\u001b[31mModuleNotFoundError\u001b[39m                       Traceback (most recent call last)",
      "\u001b[36mCell\u001b[39m\u001b[36m \u001b[39m\u001b[32mIn[4]\u001b[39m\u001b[32m, line 3\u001b[39m\n\u001b[32m      1\u001b[39m \u001b[38;5;66;03m# List all schemas and tables in DuckDB\u001b[39;00m\n\u001b[32m      2\u001b[39m con = duckdb.connect(\u001b[33m\"\u001b[39m\u001b[33msample.duckdb\u001b[39m\u001b[33m\"\u001b[39m)\n\u001b[32m----> \u001b[39m\u001b[32m3\u001b[39m \u001b[43mcon\u001b[49m\u001b[43m.\u001b[49m\u001b[43mexecute\u001b[49m\u001b[43m(\u001b[49m\u001b[33;43m\"\u001b[39;49m\u001b[33;43mSELECT table_schema, table_name FROM information_schema.tables\u001b[39;49m\u001b[33;43m\"\u001b[39;49m\u001b[43m)\u001b[49m\u001b[43m.\u001b[49m\u001b[43mdf\u001b[49m\u001b[43m(\u001b[49m\u001b[43m)\u001b[49m\n",
      "\u001b[31mModuleNotFoundError\u001b[39m: No module named 'numpy'"
     ]
    }
   ],
   "source": [
    "# List all schemas and tables in DuckDB\n",
    "con = duckdb.connect(\"sample.duckdb\")\n",
    "con.execute(\"SELECT table_schema, table_name FROM information_schema.tables\").df()"
   ]
  },
  {
   "cell_type": "code",
   "execution_count": 3,
   "id": "604c7e0e",
   "metadata": {},
   "outputs": [
    {
     "ename": "CatalogException",
     "evalue": "Catalog Error: Table with name my_table does not exist!\nDid you mean \"information_schema.tables\"?\n\nLINE 1: SELECT * FROM sample_data.my_table\n                      ^",
     "output_type": "error",
     "traceback": [
      "\u001b[31m---------------------------------------------------------------------------\u001b[39m",
      "\u001b[31mCatalogException\u001b[39m                          Traceback (most recent call last)",
      "\u001b[36mCell\u001b[39m\u001b[36m \u001b[39m\u001b[32mIn[3]\u001b[39m\u001b[32m, line 3\u001b[39m\n\u001b[32m      1\u001b[39m \u001b[38;5;66;03m# Query with DuckDB\u001b[39;00m\n\u001b[32m      2\u001b[39m con = duckdb.connect(\u001b[33m\"\u001b[39m\u001b[33msample.duckdb\u001b[39m\u001b[33m\"\u001b[39m)\n\u001b[32m----> \u001b[39m\u001b[32m3\u001b[39m \u001b[43mcon\u001b[49m\u001b[43m.\u001b[49m\u001b[43mexecute\u001b[49m\u001b[43m(\u001b[49m\u001b[33;43m\"\u001b[39;49m\u001b[33;43mSELECT * FROM sample_data.my_table\u001b[39;49m\u001b[33;43m\"\u001b[39;49m\u001b[43m)\u001b[49m.df()\n",
      "\u001b[31mCatalogException\u001b[39m: Catalog Error: Table with name my_table does not exist!\nDid you mean \"information_schema.tables\"?\n\nLINE 1: SELECT * FROM sample_data.my_table\n                      ^"
     ]
    }
   ],
   "source": [
    "# Query with DuckDB\n",
    "con = duckdb.connect(\"sample.duckdb\")\n",
    "con.execute(\"SELECT * FROM sample_data.my_table\").df()\n"
   ]
  },
  {
   "cell_type": "code",
   "execution_count": null,
   "id": "465c11f2-bd02-41f0-bce3-47fbe184c163",
   "metadata": {},
   "outputs": [],
   "source": []
  }
 ],
 "metadata": {
  "kernelspec": {
   "display_name": "Python 3 (ipykernel)",
   "language": "python",
   "name": "python3"
  },
  "language_info": {
   "codemirror_mode": {
    "name": "ipython",
    "version": 3
   },
   "file_extension": ".py",
   "mimetype": "text/x-python",
   "name": "python",
   "nbconvert_exporter": "python",
   "pygments_lexer": "ipython3",
   "version": "3.13.5"
  }
 },
 "nbformat": 4,
 "nbformat_minor": 5
}
